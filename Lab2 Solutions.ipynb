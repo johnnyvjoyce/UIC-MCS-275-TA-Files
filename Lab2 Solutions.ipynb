{
 "cells": [
  {
   "cell_type": "code",
   "execution_count": 1,
   "metadata": {},
   "outputs": [
    {
     "name": "stdout",
     "output_type": "stream",
     "text": [
      "\n",
      "Hello World!\n",
      "\n",
      "Example line\n",
      "\n",
      "I <3 Python\n",
      "\n",
      "MCS275 Programming tools and file management\n",
      "University of Illinois at Chicago\n"
     ]
    }
   ],
   "source": [
    "def Question3():\n",
    "    file = open(\"lab2example.txt\",\"r\") # Read mode\n",
    "    for line in file:\n",
    "        print(line[::-1]) # Why does [::-1] reverse a string?\n",
    "    file.close() # Remember to close when done\n",
    "    \n",
    "Question3()"
   ]
  },
  {
   "cell_type": "code",
   "execution_count": 2,
   "metadata": {},
   "outputs": [
    {
     "name": "stdout",
     "output_type": "stream",
     "text": [
      "####    ####    ####    ####    \n",
      "####    ####    ####    ####    \n",
      "####    ####    ####    ####    \n",
      "####    ####    ####    ####    \n",
      "    ####    ####    ####    ####\n",
      "    ####    ####    ####    ####\n",
      "    ####    ####    ####    ####\n",
      "    ####    ####    ####    ####\n",
      "####    ####    ####    ####    \n",
      "####    ####    ####    ####    \n",
      "####    ####    ####    ####    \n",
      "####    ####    ####    ####    \n",
      "    ####    ####    ####    ####\n",
      "    ####    ####    ####    ####\n",
      "    ####    ####    ####    ####\n",
      "    ####    ####    ####    ####\n",
      "\n"
     ]
    }
   ],
   "source": [
    "def Question4(box_size: int, file_name: str): # Try printing out some of these strings at different stages to see what they do\n",
    "    # Remember that there are many different approaches to worksheet questions - this one in particular! Don't worry if yours looks different\n",
    "    \n",
    "    linestring = \"\"\n",
    "    for i in range(4): # Want 4 dark parts with 4 blank parts separating them\n",
    "        linestring += \"#\"*box_size\n",
    "        linestring += \" \"*box_size\n",
    "    reverselinestring = linestring[::-1] # Why does [::-1] reverse a string?\n",
    "    # reverselinestring will be for the rows where the blank spaces come before the dark spaces\n",
    "\n",
    "    checkerstring = \"\" # This will be a string for 1 \"row\" of the checkerboard\n",
    "    reversecheckerstring = \"\"\n",
    "    for i in range(box_size):\n",
    "        checkerstring += linestring + \"\\n\" # \"\\n\" denotes a new line\n",
    "        reversecheckerstring += reverselinestring + \"\\n\"\n",
    "    \n",
    "    finalboard = (checkerstring + reversecheckerstring)*2 # Create the final board which we'll output\n",
    "    print(finalboard)\n",
    "    \n",
    "    file = open(file_name + \".txt\", \"w\") # Write mode\n",
    "    file.write(finalboard)\n",
    "    file.close() # Remember to close when done\n",
    "\n",
    "Question4(box_size = 4, file_name = \"question4\")"
   ]
  },
  {
   "cell_type": "code",
   "execution_count": 3,
   "metadata": {},
   "outputs": [
    {
     "name": "stdout",
     "output_type": "stream",
     "text": [
      "[1, 4, 9, 16, 25, 36, 49, 64, 81, 100, 121, 144, 169, 196, 225, 256, 289, 324, 361, 400]\n",
      "['11', '44', '99', '16', '25', '36', '49', '64', '81', '10', '11', '14', '19', '16', '25', '26', '29', '34', '31', '40']\n",
      "17\n"
     ]
    }
   ],
   "source": [
    "def Question5():\n",
    "    \n",
    "    # Part (a)\n",
    "    #__________\n",
    "    mylist = [i**2 for i in range(1,21)] # Why range(1,21)?\n",
    "    print(mylist)\n",
    "    \n",
    "    # Part (b)\n",
    "    # ________\n",
    "    mylist = [str(i)[0]+str(i)[-1] for i in mylist] # str(i)[0] gets first digit as string, str(i)[-1] gets last digit as string\n",
    "    print(mylist)\n",
    "    \n",
    "    # Part (c)\n",
    "    # ________\n",
    "    noduplicates = list(set(mylist)) # Beware! This removes duplicates from a list but may change the order\n",
    "    print(len(noduplicates))\n",
    "    \n",
    "    \n",
    "Question5()"
   ]
  },
  {
   "cell_type": "code",
   "execution_count": 4,
   "metadata": {},
   "outputs": [
    {
     "name": "stdout",
     "output_type": "stream",
     "text": [
      "[30.01, 33.01, 36.01, 39.01, 42.01, 45.01, 48.01]\n"
     ]
    }
   ],
   "source": [
    "def Question6():\n",
    "    return [i+0.01 for i in range(30,50) if i%3==0]\n",
    "\n",
    "print(Question6())"
   ]
  },
  {
   "cell_type": "code",
   "execution_count": 5,
   "metadata": {},
   "outputs": [
    {
     "name": "stdout",
     "output_type": "stream",
     "text": [
      "1\n",
      "2\n",
      "3\n",
      "4\n",
      "5\n"
     ]
    }
   ],
   "source": [
    "def Question7():\n",
    "    L = [1,2,3,4,5]\n",
    "    for i in L: # We can iterate over list items instead of list indices\n",
    "        print(i)\n",
    "\n",
    "Question7()"
   ]
  },
  {
   "cell_type": "code",
   "execution_count": 6,
   "metadata": {},
   "outputs": [
    {
     "name": "stdout",
     "output_type": "stream",
     "text": [
      "13.706000000000001\n"
     ]
    }
   ],
   "source": [
    "def Question8():\n",
    "    grocerycart = [2.99, 4.99, 3.49, 0.99] # A list of prices of item in the cart\n",
    "    taxrate = 0.1 # The rate of tax is 10%\n",
    "    subtotal = 0\n",
    "    for item in grocerycart: # Add the price of each item to the subtotal\n",
    "        subtotal += item\n",
    "    tax = taxrate*subtotal # Calculate the tax we need to pay\n",
    "    totalprice = subtotal + tax\n",
    "    print(totalprice)\n",
    "    \n",
    "Question8()"
   ]
  },
  {
   "cell_type": "code",
   "execution_count": 7,
   "metadata": {},
   "outputs": [
    {
     "name": "stdout",
     "output_type": "stream",
     "text": [
      "[{}, {'Name': 'Johnny', 'Major': 'Math', 'Hometown': 'Brighton'}, {'Name': 'John', 'Title': 'Professor', 'ResearchArea': 'Math', 'Teaching': 'MCS 275'}, {'Name': 'Linda', 'School': 'UIC', 'FavoriteTeam': 'Cubs'}, {'Name': 'Alex', 'Job': 'Cook', 'FavoriteColor': 'Green'}, {'Name': 'Mittens', 'Species': 'Cat', 'FavoriteToy': 'Yarn', 'FaroriteWord': 'Meow'}]\n"
     ]
    }
   ],
   "source": [
    "def Question9():\n",
    "    file = open(\"lab2example2.txt\",\"r\")\n",
    "    personlist = [] # Keep a list to contain each dictionary\n",
    "    currententry = {} # Keep a dictionary for each different person we find\n",
    "    \n",
    "    for line in file: # Go through each line one at a time\n",
    "        \n",
    "        if \"_\" in line: # If we find the separator symbol for a new person\n",
    "            personlist.append(currententry) # Add the current info so far to the list of people\n",
    "            currententry = {} # Start a new dictionary for a new person\n",
    "            \n",
    "        else:\n",
    "            splitline = line.split(\": \") # Use the colon symbol (and the space after it) to split up the line\n",
    "            currententry[splitline[0]] = splitline[1][:-1] # What does this line do? Think about how currententry is a dictionary\n",
    "\n",
    "    return personlist\n",
    "    # Notice that in the result, the first item is an empty dictionary {}. How can this be fixed?\n",
    "\n",
    "print(Question9())"
   ]
  },
  {
   "cell_type": "code",
   "execution_count": null,
   "metadata": {},
   "outputs": [],
   "source": []
  }
 ],
 "metadata": {
  "kernelspec": {
   "display_name": "Python 3",
   "language": "python",
   "name": "python3"
  },
  "language_info": {
   "codemirror_mode": {
    "name": "ipython",
    "version": 3
   },
   "file_extension": ".py",
   "mimetype": "text/x-python",
   "name": "python",
   "nbconvert_exporter": "python",
   "pygments_lexer": "ipython3",
   "version": "3.7.1"
  }
 },
 "nbformat": 4,
 "nbformat_minor": 4
}
