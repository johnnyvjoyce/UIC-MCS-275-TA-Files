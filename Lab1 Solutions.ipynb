{
 "cells": [
  {
   "cell_type": "code",
   "execution_count": 1,
   "metadata": {},
   "outputs": [
    {
     "name": "stdout",
     "output_type": "stream",
     "text": [
      "['item1', 'item2', 'item4', 'item5', 'item7', 'item8', 'item10', 'item11']\n"
     ]
    }
   ],
   "source": [
    "def Question1(L):\n",
    "    del L[2::3] # What does the parameter 2 do here? How about the parameter 3? Try changing them and see what happens\n",
    "    return L\n",
    "    \n",
    "mylist = [\"item1\", \"item2\", \"item3\", \"item4\", \"item5\", \"item6\", \"item7\", \"item8\", \"item9\", \"item10\", \"item11\", \"item12\"]\n",
    "mylist = Question1(mylist)\n",
    "print(mylist)"
   ]
  },
  {
   "cell_type": "code",
   "execution_count": 2,
   "metadata": {},
   "outputs": [
    {
     "name": "stdout",
     "output_type": "stream",
     "text": [
      "['item1', 'item2', 'blank', 'item4', 'item5', 'blank', 'item7', 'item8', 'blank', 'item10', 'item11']\n"
     ]
    }
   ],
   "source": [
    "def Question2(L):\n",
    "\n",
    "    newlist = [] # Create a new list which doesn't have every 3rd item\n",
    "    for i in range(len(L)-1):\n",
    "        if (i+1) % 3 != 0: # Check every third item (Why do we add +1 to i? What is the index of the third/sixth/ninth item?)\n",
    "            newlist.append( L[i] )\n",
    "        else:\n",
    "            newlist.append( \"blank\" )\n",
    "    \n",
    "    return newlist # why do we make a new list instead of deleting the elements straight from the list? What happens if we delete them?\n",
    "\n",
    "mylist = [\"item1\", \"item2\", \"item3\", \"item4\", \"item5\", \"item6\", \"item7\", \"item8\", \"item9\", \"item10\", \"item11\", \"item12\"]\n",
    "mylist = Question2(mylist)\n",
    "print(mylist)"
   ]
  },
  {
   "cell_type": "code",
   "execution_count": 3,
   "metadata": {},
   "outputs": [
    {
     "name": "stdout",
     "output_type": "stream",
     "text": [
      "['item3', 'item4', 'item5', 'item6', 'item7', 'item8', 'item9', 'item10']\n"
     ]
    }
   ],
   "source": [
    "def Question3(L):\n",
    "    return L[2:-2] # Why are these 2's and not 3's? What does it do if we change them to 3?\n",
    "    \n",
    "mylist = [\"item1\", \"item2\", \"item3\", \"item4\", \"item5\", \"item6\", \"item7\", \"item8\", \"item9\", \"item10\", \"item11\", \"item12\"]\n",
    "mylist = Question3(mylist)\n",
    "print(mylist)"
   ]
  },
  {
   "cell_type": "code",
   "execution_count": 4,
   "metadata": {},
   "outputs": [
    {
     "name": "stdout",
     "output_type": "stream",
     "text": [
      "['myname', 'example', 'com']\n",
      "['jbergen', 'uic', 'edu']\n",
      "['jjoyce22', 'uic', 'edu']\n"
     ]
    }
   ],
   "source": [
    "def Question4(email):\n",
    "    name = email.split(\"@\")[0] # What does the [0] do here? What happens if we remove it?\n",
    "    secondhalf = email.split(\"@\")[1]\n",
    "    institution = secondhalf.split(\".\")[0] # Why do we need to split secondhalf again? What value does secondhalf have?\n",
    "    domain = secondhalf.split(\".\")[1]\n",
    "    return [name,institution,domain]\n",
    "    \n",
    "\n",
    "print(Question4(\"myname@example.com\"))\n",
    "print(Question4(\"jbergen@uic.edu\"))\n",
    "print(Question4(\"jjoyce22@uic.edu\"))\n"
   ]
  },
  {
   "cell_type": "code",
   "execution_count": 5,
   "metadata": {},
   "outputs": [
    {
     "name": "stdout",
     "output_type": "stream",
     "text": [
      "[['myname', 'example', 'com'], ['jbergen', 'uic', 'edu'], ['jjoyce22', 'uic', 'edu']]\n"
     ]
    }
   ],
   "source": [
    "def Question5(emaillist):\n",
    "    listofsublists = []\n",
    "    for email in emaillist: # For each email in the list, apply our answer to Question 4.\n",
    "        listofsublists.append( Question4(email) )\n",
    "        \n",
    "    return listofsublists\n",
    "\n",
    "emaillist = [\"myname@example.com\",\"jbergen@uic.edu\",\"jjoyce22@uic.edu\"]\n",
    "print(Question5(emaillist))"
   ]
  },
  {
   "cell_type": "code",
   "execution_count": 6,
   "metadata": {},
   "outputs": [
    {
     "name": "stdout",
     "output_type": "stream",
     "text": [
      "[1, 4, 9, 16, 25, 36, 49, 64, 81, 100, 121, 144, 169, 196, 225, 256, 289, 324, 361, 400]\n"
     ]
    }
   ],
   "source": [
    "def Question8():\n",
    "    return [i**2 for i in range(1,21)]\n",
    "\n",
    "print(Question8())"
   ]
  },
  {
   "cell_type": "code",
   "execution_count": 7,
   "metadata": {},
   "outputs": [
    {
     "name": "stdout",
     "output_type": "stream",
     "text": [
      "beach\n",
      "facade\n",
      "cache\n"
     ]
    }
   ],
   "source": [
    "def Question11(mylist):\n",
    "    translations = {1:\"a\", 2:\"b\", 3:\"c\", 4:\"d\", 5:\"e\", 6:\"f\", 7:\"g\", 8:\"h\", 9:\"i\"}\n",
    "    translatedstring = \"\"\n",
    "    for i in mylist:\n",
    "        translatedstring += translations[i]\n",
    "    return translatedstring\n",
    "    \n",
    "print(Question11([2,5,1,3,8]))\n",
    "print(Question11([6,1,3,1,4,5]))\n",
    "print(Question11([3,1,3,8,5]))"
   ]
  },
  {
   "cell_type": "code",
   "execution_count": 8,
   "metadata": {},
   "outputs": [
    {
     "name": "stdout",
     "output_type": "stream",
     "text": [
      "['item1', 'item2', 'item3', 'item4', 'item5', 'item6']\n"
     ]
    }
   ],
   "source": [
    "def Question12(mylist):\n",
    "    duplicatesremoved = [] # A new list which won't have any duplicates\n",
    "    for i in mylist:\n",
    "        if i not in duplicatesremoved: # For each item, check if we have a duplicate\n",
    "            duplicatesremoved.append(i)\n",
    "    return duplicatesremoved\n",
    "\n",
    "listwithduplicates = [\"item1\",\"item2\",\"item3\",\"item4\",\"item1\",\"item5\",\"item4\",\"item2\",\"item6\",\"item1\"]\n",
    "print(Question12(listwithduplicates))"
   ]
  },
  {
   "cell_type": "code",
   "execution_count": 9,
   "metadata": {},
   "outputs": [
    {
     "name": "stdout",
     "output_type": "stream",
     "text": [
      "7.080000000000002\n"
     ]
    }
   ],
   "source": [
    "def Question13(grocerylist):\n",
    "    prices = {\"apple\":0.99, \"banana\":0.40, \"pineapple\":3.00, \"blueberries\":3.50}\n",
    "    totalprice = 0\n",
    "    for i in grocerylist:\n",
    "        totalprice += prices[i] # For each item, get the price from the dictionary\n",
    "    return totalprice\n",
    "\n",
    "print(Question13([\"apple\",\"apple\",\"blueberries\",\"banana\",\"banana\",\"banana\",\"banana\"])) \n",
    "# Outputs 7.08. The 0.00000000000002 is a \"floating point error\" - you may see these often (they're interesting to look up!)"
   ]
  },
  {
   "cell_type": "code",
   "execution_count": null,
   "metadata": {},
   "outputs": [],
   "source": []
  }
 ],
 "metadata": {
  "kernelspec": {
   "display_name": "Python 3",
   "language": "python",
   "name": "python3"
  },
  "language_info": {
   "codemirror_mode": {
    "name": "ipython",
    "version": 3
   },
   "file_extension": ".py",
   "mimetype": "text/x-python",
   "name": "python",
   "nbconvert_exporter": "python",
   "pygments_lexer": "ipython3",
   "version": "3.7.1"
  }
 },
 "nbformat": 4,
 "nbformat_minor": 4
}
