{
 "cells": [
  {
   "cell_type": "code",
   "execution_count": 1,
   "metadata": {},
   "outputs": [
    {
     "name": "stdout",
     "output_type": "stream",
     "text": [
      "25\n"
     ]
    }
   ],
   "source": [
    "###################\n",
    "### Question 1 ####\n",
    "###################\n",
    "\n",
    "class Rectangle():\n",
    "    def __init__(self, length, width):\n",
    "        self.length = length\n",
    "        self.width = width\n",
    "    \n",
    "    def area(self):\n",
    "        return self.length*self.width # formula for area of a rectangle\n",
    "    \n",
    "class Square(Rectangle):\n",
    "    def __init__(self, length):\n",
    "        super().__init__(length, length) # Initialize a rectangle with equal length and width\n",
    "        \n",
    "fivebyfivesquare = Square(5)\n",
    "print(fivebyfivesquare.area())"
   ]
  },
  {
   "cell_type": "code",
   "execution_count": 2,
   "metadata": {},
   "outputs": [
    {
     "name": "stdout",
     "output_type": "stream",
     "text": [
      "3.141592653589793\n"
     ]
    }
   ],
   "source": [
    "###################\n",
    "### Question 2 ####\n",
    "###################\n",
    "\n",
    "import numpy as np\n",
    "\n",
    "class Ellipse():\n",
    "    def __init__(self, a, b):\n",
    "        self.a = a\n",
    "        self.b = b\n",
    "    \n",
    "    def area(self):\n",
    "        return self.a*self.b*np.pi # formula for area of an ellipse\n",
    "    \n",
    "class Circle(Ellipse):\n",
    "    def __init__(self, radius):\n",
    "        super().__init__(radius, radius) # Initialize an ellipse where a and b are both equal to the radius\n",
    "        \n",
    "unitcircle = Circle(1) # A circle of radius 1\n",
    "print(unitcircle.area())"
   ]
  },
  {
   "cell_type": "code",
   "execution_count": 3,
   "metadata": {},
   "outputs": [
    {
     "name": "stdout",
     "output_type": "stream",
     "text": [
      "<6,4>\n",
      "11\n"
     ]
    }
   ],
   "source": [
    "###################\n",
    "### Question 3 ####\n",
    "###################\n",
    "\n",
    "class Vector():\n",
    "    def __init__(self, a, b):\n",
    "        self.a = a\n",
    "        self.b = b\n",
    "        \n",
    "    def __add__(self, other):\n",
    "        return Vector(self.a+other.a, self.b+other.b) # Adding two vectors gives a new vector <a1+a2, b1+b2>\n",
    "    \n",
    "    def __mul__(self, other):\n",
    "        return self.a*other.a + self.b*other.b # Multiplying two vectors gives the dot product\n",
    "    \n",
    "    def __str__(self):\n",
    "        return \"<%s,%s>\" % (self.a, self.b) # Whenever we want to represent the vector as a string, we will get this\n",
    "    \n",
    "vec1 = Vector(2,3)\n",
    "vec2 = Vector(4,1)\n",
    "\n",
    "print(vec1+vec2) # <2,3>  +  <4,1> = <6,4>\n",
    "print(vec1*vec2) # <2,3> dot <4,1> = 11"
   ]
  },
  {
   "cell_type": "code",
   "execution_count": 4,
   "metadata": {},
   "outputs": [
    {
     "name": "stdout",
     "output_type": "stream",
     "text": [
      "You would need to lay out 83934426 pythons to reach the moon\n"
     ]
    }
   ],
   "source": [
    "###################\n",
    "### Question 4 ####\n",
    "###################\n",
    "\n",
    "class Distance():\n",
    "    def __init__(self, d: float, units: str):\n",
    "        self.d = d\n",
    "        self.units = units\n",
    "        \n",
    "    def convertdistance(self, newunits):\n",
    "        if self.units == \"meters\": # Convert meters to something else\n",
    "                if newunits == \"meters\":\n",
    "                    return self.d\n",
    "                elif newunits == \"inches\":\n",
    "                    return self.d * 39.4\n",
    "                elif newunits == \"feet\":\n",
    "                    return self.d * 3.28\n",
    "            \n",
    "        elif self.units == \"inches\": # Convert inches to something else\n",
    "                if newunits == \"meters\":\n",
    "                    return self.d * 0.0254\n",
    "                elif newunits == \"inches\":\n",
    "                    return self.d\n",
    "                elif newunits == \"feet\":\n",
    "                    return self.d * 0.0833\n",
    "            \n",
    "        elif self.units == \"feet\": # Convert feet to something else\n",
    "                if newunits == \"meters\":\n",
    "                    return self.d * 0.305\n",
    "                elif newunits == \"inches\":\n",
    "                    return self.d * 12\n",
    "                elif newunits == \"feet\":\n",
    "                    return self.d\n",
    "            \n",
    "        else:\n",
    "            raise ValueError(\"New units not recognised\")\n",
    "        \n",
    "        \n",
    "    '''def __add__(self, other): # Return distance in meters. (This part wasn't on the worksheet, but it's here in case anyone is curious)\n",
    "        d1inmeters = self.convertdistance(\"meters\")\n",
    "        d2inmeters = other.convertdistance(\"meters\")\n",
    "        distancesum = d1inmeters + d2inmeters\n",
    "        return Distance(distancesum, \"meters\")'''\n",
    "    \n",
    "    \n",
    "    def __truediv__(self, other):\n",
    "        d1meters = self.convertdistance(\"meters\") # Get both distances into the same units\n",
    "        d2meters = other.convertdistance(\"meters\")\n",
    "        return d1meters / d2meters\n",
    "    \n",
    "    \n",
    "pythonlength = Distance(15, \"feet\") \n",
    "moondistance = Distance(384000000, \"meters\")\n",
    "howmanypythons = int(moondistance/pythonlength)\n",
    "\n",
    "print(\"You would need to lay out \" + str(howmanypythons) + \" pythons to reach the moon\")\n",
    "        "
   ]
  },
  {
   "cell_type": "code",
   "execution_count": 5,
   "metadata": {},
   "outputs": [
    {
     "name": "stdout",
     "output_type": "stream",
     "text": [
      "mjqqt btwqi!\n",
      "hello world!\n",
      "hennm everymle!\n",
      "hello everyone!\n"
     ]
    }
   ],
   "source": [
    "###################\n",
    "### Question 5 ####\n",
    "###################\n",
    "\n",
    "\n",
    "class BaseEncoder():\n",
    "    def __init__(self):\n",
    "        pass\n",
    "        \n",
    "    def encode(self,text):\n",
    "        return text\n",
    "    \n",
    "    def decode(self,text):\n",
    "        return text\n",
    "    \n",
    "    \n",
    "    \n",
    "class RotateEncoder():\n",
    "    def __init__(self, numsteps):\n",
    "        self.numsteps = numsteps\n",
    "        super().__init__()\n",
    "        \n",
    "    def encode(self,text):\n",
    "        alphabet = \"abcdefghijklmnopqrstuvwxyz\"\n",
    "        encodedstring = \"\"\n",
    "        for l in text: # Go through each letter in the input\n",
    "            letter = l.lower() # Convert to lowercase\n",
    "            \n",
    "            if letter in alphabet:\n",
    "                letternumber = alphabet.index(letter) # Position of letter in the alphabet\n",
    "                newletternumber = (letternumber + self.numsteps) % 26 \n",
    "                '''\n",
    "                ^ The % symbol is modulo arithmetic. % 26 is saying that we want the remainder after dividing by 26.\n",
    "                E.g. if our starting letter is y and we skip ahead 5 letters, our new letter number is 24+5=29.\n",
    "                We would then get the remainder after dividing by 26, which is 3, so our new letter is d. (Remember, indexes start at 0)\n",
    "                '''\n",
    "                encodedstring += alphabet[newletternumber] # Add the new letter to our encoded string\n",
    "            else:\n",
    "                encodedstring += l # If we find something not in the alphabet (e.g. punctuation), keep it the same\n",
    "                \n",
    "        return encodedstring\n",
    "    \n",
    "    def decode(self,text):\n",
    "        self.numsteps = -self.numsteps # Invert the number of steps (so we go backwards)\n",
    "        decoded = self.encode(text) # Encode the message in reverse\n",
    "        self.numsteps = -self.numsteps # Put the number of steps back to normal\n",
    "        return decoded\n",
    "        \n",
    "\n",
    "        \n",
    "class Rot13Encoder(RotateEncoder):\n",
    "    def __init__(self):\n",
    "        super().__init__(numsteps=13) # The Rot13Encoder is just a special case of the RotateEncoder with numsteps=13\n",
    "        \n",
    "        \n",
    "        \n",
    "class SubstitutionEncoder(BaseEncoder):\n",
    "    def __init__(self, pre, post): # Save pre and post\n",
    "        self.pre = pre\n",
    "        self.post = post\n",
    "    \n",
    "    def encode(self, text):\n",
    "        encodedstring = \"\"\n",
    "        for l in text:\n",
    "            if l in self.pre: # If the current letter is one that we want to change\n",
    "                letterindex = self.pre.index(l)\n",
    "                newletter = self.post[letterindex]\n",
    "                encodedstring += newletter\n",
    "            else:\n",
    "                encodedstring += l\n",
    "        return encodedstring\n",
    "                \n",
    "            \n",
    "    def decode(self, text):\n",
    "        self.pre, self.post = self.post, self.pre # Swap around pre and post\n",
    "        decoded = self.encode(text) # Encode backwards\n",
    "        self.pre, self.post = self.post, self.pre # Swap pre and post back to their original positions\n",
    "        return decoded\n",
    "        \n",
    "E = RotateEncoder(5)\n",
    "s = E.encode(\"hello world!\") # mjqqt btwqi!\n",
    "print(s) # mjqqt btwqi!\n",
    "print(E.decode(s)) # hello world!\n",
    "F = SubstitutionEncoder(\"lmno\",\"nolm\")\n",
    "s = F.encode(\"hello everyone!\")\n",
    "print(s) # hennm everymle!\n",
    "print(F.decode(s)) # hello everyone!"
   ]
  },
  {
   "cell_type": "code",
   "execution_count": null,
   "metadata": {},
   "outputs": [],
   "source": []
  }
 ],
 "metadata": {
  "kernelspec": {
   "display_name": "Python 3",
   "language": "python",
   "name": "python3"
  },
  "language_info": {
   "codemirror_mode": {
    "name": "ipython",
    "version": 3
   },
   "file_extension": ".py",
   "mimetype": "text/x-python",
   "name": "python",
   "nbconvert_exporter": "python",
   "pygments_lexer": "ipython3",
   "version": "3.7.1"
  }
 },
 "nbformat": 4,
 "nbformat_minor": 4
}
