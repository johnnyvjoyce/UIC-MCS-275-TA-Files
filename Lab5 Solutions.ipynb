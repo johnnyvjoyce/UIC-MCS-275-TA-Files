{
 "cells": [
  {
   "cell_type": "code",
   "execution_count": 1,
   "metadata": {},
   "outputs": [],
   "source": [
    "import random"
   ]
  },
  {
   "cell_type": "code",
   "execution_count": 2,
   "metadata": {},
   "outputs": [
    {
     "name": "stdout",
     "output_type": "stream",
     "text": [
      "10\n"
     ]
    }
   ],
   "source": [
    "###################\n",
    "### Question 1 ####\n",
    "###################\n",
    "\n",
    "def sumofdigits(n):\n",
    "    n = str(n) # convert to string\n",
    "    if len(n) == 1: # base case\n",
    "        return int(n)\n",
    "    else:\n",
    "        firstdigit = int(n[0]) # get first digit as an integer\n",
    "        return firstdigit + sumofdigits(n[1:])\n",
    "    \n",
    "print(sumofdigits(1234))"
   ]
  },
  {
   "cell_type": "code",
   "execution_count": 3,
   "metadata": {},
   "outputs": [
    {
     "name": "stdout",
     "output_type": "stream",
     "text": [
      "3\n"
     ]
    }
   ],
   "source": [
    "###################\n",
    "### Question 2 ####\n",
    "###################\n",
    "\n",
    "def countnumberfour(L):\n",
    "    count = 0\n",
    "    for i in L:\n",
    "        if type(i) == list: # If we find a sublist, then call our own function on the sublist.\n",
    "            count += countnumberfour(i)\n",
    "        elif i == 4: # If we find the number 4, then increase the count\n",
    "            count += 1\n",
    "    return count\n",
    "    \n",
    "mylist = [1, 6, [-2, 4, 7], 4, 0, [9, [4]], 8]\n",
    "print(countnumberfour(mylist))"
   ]
  },
  {
   "cell_type": "code",
   "execution_count": 4,
   "metadata": {},
   "outputs": [
    {
     "name": "stdout",
     "output_type": "stream",
     "text": [
      "Part (a): n=10\n",
      "4.063492063492063\n",
      "\n",
      "Part (b) n=10\n",
      "124\n",
      "\n",
      "Part (c) n=10\n",
      "329\n"
     ]
    }
   ],
   "source": [
    "###################\n",
    "### Question 3 ####\n",
    "###################\n",
    "\n",
    "def sequence1(n):\n",
    "    if n == 1: # base case\n",
    "        return 1\n",
    "    else: # recursive step\n",
    "        return n/sequence1(n-1)\n",
    "\n",
    "def sequence2(n):\n",
    "    if n == 0: # base case\n",
    "        return 3\n",
    "    elif n == 1: # base case\n",
    "        return 4\n",
    "    else: # recursive step\n",
    "        return 3*sequence2(n-2)-5\n",
    "     \n",
    "def sequence3(n):\n",
    "    if n == 0: # base case\n",
    "        return 0\n",
    "    elif n == 1: # base case\n",
    "        return 1\n",
    "    else: # recursive step\n",
    "        return 3*sequence2(n-1)-sequence2(n-2)\n",
    "    \n",
    "print(\"Part (a): n=10\")\n",
    "print(sequence1(10))\n",
    "\n",
    "print(\"\\nPart (b) n=10\")\n",
    "print(sequence2(10))\n",
    "\n",
    "print(\"\\nPart (c) n=10\")\n",
    "print(sequence3(10))"
   ]
  },
  {
   "cell_type": "code",
   "execution_count": 5,
   "metadata": {},
   "outputs": [
    {
     "name": "stdout",
     "output_type": "stream",
     "text": [
      "2520\n"
     ]
    }
   ],
   "source": [
    "###################\n",
    "### Question 4 ####\n",
    "###################\n",
    "\n",
    "def multiplyargs(*args):\n",
    "    product = 1\n",
    "    for i in args:\n",
    "        product *= i # multiply product by each element\n",
    "    return product\n",
    "    \n",
    "print(multiplyargs(3,4,5,6,7))"
   ]
  },
  {
   "cell_type": "code",
   "execution_count": 6,
   "metadata": {},
   "outputs": [
    {
     "name": "stdout",
     "output_type": "stream",
     "text": [
      "[1, 2, 3, 4, 5, 6, 7, 8, 9, 10]\n"
     ]
    }
   ],
   "source": [
    "###################\n",
    "### Question 5 ####\n",
    "###################\n",
    "\n",
    "\n",
    "def quicksort(L):\n",
    "    if len(L) == 1 or len(L) == 0: # base case\n",
    "        return L\n",
    "    else: # recursive step\n",
    "        pivot = random.choice(L)\n",
    "        lower, upper = [], []\n",
    "        for i in L:\n",
    "            if i < pivot:\n",
    "                lower.append(i)\n",
    "            else:\n",
    "                upper.append(i)\n",
    "        return quicksort(lower)+quicksort(upper)\n",
    "    \n",
    "    \n",
    "    \n",
    "mylist = [4,7,9,1,2,8,6,3,10,5]\n",
    "print(quicksort(mylist))"
   ]
  },
  {
   "cell_type": "code",
   "execution_count": 7,
   "metadata": {},
   "outputs": [
    {
     "data": {
      "text/plain": [
       "['b', 'd']"
      ]
     },
     "execution_count": 7,
     "metadata": {},
     "output_type": "execute_result"
    }
   ],
   "source": [
    "###################\n",
    "### Question 6 ####\n",
    "###################\n",
    "\n",
    "\n",
    "def getevenkeys(**kwargs):\n",
    "    evenkeys = []\n",
    "    for key, val in kwargs.items():\n",
    "        if val % 2 == 0:\n",
    "            evenkeys.append(key)\n",
    "    return evenkeys\n",
    "            \n",
    "        \n",
    "getevenkeys(a=1,b=2,c=3,d=4)"
   ]
  },
  {
   "cell_type": "code",
   "execution_count": null,
   "metadata": {},
   "outputs": [],
   "source": []
  }
 ],
 "metadata": {
  "kernelspec": {
   "display_name": "Python 3",
   "language": "python",
   "name": "python3"
  },
  "language_info": {
   "codemirror_mode": {
    "name": "ipython",
    "version": 3
   },
   "file_extension": ".py",
   "mimetype": "text/x-python",
   "name": "python",
   "nbconvert_exporter": "python",
   "pygments_lexer": "ipython3",
   "version": "3.7.1"
  }
 },
 "nbformat": 4,
 "nbformat_minor": 4
}
