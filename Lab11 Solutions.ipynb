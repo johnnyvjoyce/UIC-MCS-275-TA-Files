{
 "cells": [
  {
   "cell_type": "code",
   "execution_count": null,
   "metadata": {},
   "outputs": [
    {
     "name": "stdout",
     "output_type": "stream",
     "text": [
      " * Serving Flask app \"__main__\" (lazy loading)\n",
      " * Environment: production\n",
      "   WARNING: This is a development server. Do not use it in a production deployment.\n",
      "   Use a production WSGI server instead.\n",
      " * Debug mode: off\n"
     ]
    },
    {
     "name": "stderr",
     "output_type": "stream",
     "text": [
      " * Running on http://127.0.0.1:5000/ (Press CTRL+C to quit)\n",
      "127.0.0.1 - - [01/Apr/2021 15:51:58] \"\u001b[37mGET / HTTP/1.1\u001b[0m\" 200 -\n",
      "127.0.0.1 - - [01/Apr/2021 15:51:58] \"\u001b[33mGET /favicon.ico HTTP/1.1\u001b[0m\" 404 -\n",
      "127.0.0.1 - - [01/Apr/2021 15:57:20] \"\u001b[37mGET / HTTP/1.1\u001b[0m\" 200 -\n"
     ]
    }
   ],
   "source": [
    "###################\n",
    "### Question 1 ####\n",
    "###################\n",
    "\n",
    "from flask import Flask, render_template, request\n",
    "\n",
    "app = Flask(__name__)\n",
    "\n",
    "@app.route('/', methods = ['GET', 'POST'])\n",
    "def index():\n",
    "    \n",
    "    if request.method == 'GET': # If webpage was loaded\n",
    "        return render_template('q1.html', displayinfo = \"\")\n",
    "    \n",
    "    if request.method == 'POST': # If button was pressed\n",
    "        \n",
    "        num1 = request.form['box1'] # Get first text box value\n",
    "        num2 = request.form['box2'] # Get second text box value\n",
    "        \n",
    "        try:\n",
    "            num1 = float(num1)\n",
    "            num2 = float(num2)\n",
    "            result = str(num1*num2) # Convert back to string so we can display it\n",
    "        except: # If values cannot be converted to floats or cannot be multiplied\n",
    "            result = \"Error\"\n",
    "        \n",
    "        return render_template('q1.html', displayinfo = result) \n",
    "        # Display result (either error or result of multiplication)\n",
    "\n",
    "app.run()\n"
   ]
  },
  {
   "cell_type": "code",
   "execution_count": null,
   "metadata": {
    "scrolled": false
   },
   "outputs": [],
   "source": [
    "###################\n",
    "### Question 2 ####\n",
    "###################\n",
    "\n",
    "from flask import Flask, render_template, request\n",
    "import datetime\n",
    "\n",
    "app = Flask(__name__)\n",
    "\n",
    "global messages\n",
    "messages = [] # Keep a list of messages sent so far\n",
    "\n",
    "@app.route('/', methods = ['GET', 'POST'])\n",
    "def index():\n",
    "    \n",
    "    if request.method == 'GET': # If webpage was loaded\n",
    "        return render_template('q2.html', displayinfo = \"\\n\".join(messages))\n",
    "    \n",
    "    if request.method == 'POST': # If button was pressed\n",
    "    \n",
    "        msg = request.form['message'] # Get user's entry\n",
    "        now = datetime.datetime.now() # Get current time\n",
    "        time = \"%s:%s:%s\" % (now.hour, now.minute, now.second) #  Format current time\n",
    "        messages.append(time + \" A user says: \" + str(msg)) \n",
    "        # Create a new message with current time and append to list of messages\n",
    "        \n",
    "        return render_template('q2.html', displayinfo = \"\\n\".join(messages)) \n",
    "        # Print messages with \"\\n\" separators for new lines\n",
    "\n",
    "app.run()\n"
   ]
  },
  {
   "cell_type": "code",
   "execution_count": null,
   "metadata": {},
   "outputs": [],
   "source": [
    "###################\n",
    "### Question 3 ####\n",
    "###################\n",
    "\n",
    "from flask import Flask, render_template, request\n",
    "\n",
    "app = Flask(__name__)\n",
    "\n",
    "@app.route('/', methods = ['GET', 'POST'])\n",
    "def index():\n",
    "    \n",
    "    if request.method == 'GET': # If webpage was loaded\n",
    "        return render_template('q3.html', displayinfo = \"\")\n",
    "    \n",
    "    if request.method == 'POST': # If button was pressed\n",
    "        \n",
    "        result = request.form.getlist(\"checkboxes\") \n",
    "        # For each box that was ticked, there will be an entry in this list that says \"on\"\n",
    "        # Unticked boxes do not affect this list\n",
    "        \n",
    "        return render_template('q3.html', displayinfo = len(result)) # Display result\n",
    "\n",
    "\n",
    "app.run()\n"
   ]
  },
  {
   "cell_type": "code",
   "execution_count": null,
   "metadata": {},
   "outputs": [],
   "source": [
    "###################\n",
    "### Question 4 ####\n",
    "###################\n",
    "\n",
    "from flask import Flask, render_template, request\n",
    "import datetime\n",
    "\n",
    "app = Flask(__name__)\n",
    "\n",
    "\n",
    "@app.route('/', methods = ['GET', 'POST'])\n",
    "def index():\n",
    "    \n",
    "    if request.method == 'GET': # If webpage was loaded\n",
    "        return render_template('q4.html', displayinfo = \"\")\n",
    "    \n",
    "    if request.method == 'POST': # If button was pressed\n",
    "\n",
    "        msg = request.form['message'] # Get user's entry\n",
    "        \n",
    "        with open(\"myfile.txt\",\"a\") as file: # Open up the file\n",
    "            \n",
    "            now = datetime.datetime.now() # Get current time\n",
    "            time = \"%2f:%2f:%2f: \" % (now.hour, now.minute, now.second) #  Format current time\n",
    "            file.write(time + msg) # Write the current time and write the message\n",
    "            file.write(\"\\n\") # Start a new line\n",
    "                               \n",
    "        return render_template('q4.html', displayinfo = \"Success!\") \n",
    "        # Display success message\n",
    "\n",
    "app.run()\n"
   ]
  },
  {
   "cell_type": "code",
   "execution_count": null,
   "metadata": {},
   "outputs": [],
   "source": []
  }
 ],
 "metadata": {
  "kernelspec": {
   "display_name": "Python 3",
   "language": "python",
   "name": "python3"
  },
  "language_info": {
   "codemirror_mode": {
    "name": "ipython",
    "version": 3
   },
   "file_extension": ".py",
   "mimetype": "text/x-python",
   "name": "python",
   "nbconvert_exporter": "python",
   "pygments_lexer": "ipython3",
   "version": "3.7.1"
  }
 },
 "nbformat": 4,
 "nbformat_minor": 4
}
