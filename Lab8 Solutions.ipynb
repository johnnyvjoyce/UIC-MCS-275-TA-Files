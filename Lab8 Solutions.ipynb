{
 "cells": [
  {
   "cell_type": "code",
   "execution_count": 1,
   "metadata": {},
   "outputs": [
    {
     "name": "stdout",
     "output_type": "stream",
     "text": [
      "> <ipython-input-1-b6bf7a9f5137>(10)wrapper()\n",
      "-> return func(*args) # Run the decorated function\n",
      "(Pdb) c\n",
      "6\n"
     ]
    }
   ],
   "source": [
    "###################\n",
    "### Question 1 ####\n",
    "###################\n",
    "\n",
    "import pdb\n",
    "\n",
    "def breakpointdecorator(func):\n",
    "    def wrapper(*args): # This wrapper function will run when we call the decorated function\n",
    "        breakpoint() # Insert a breakpoint\n",
    "        return func(*args) # Run the decorated function\n",
    "    return wrapper\n",
    "\n",
    "\n",
    "@breakpointdecorator\n",
    "def plusone(a): # A random example function\n",
    "    return a+1\n",
    "\n",
    "\n",
    "print(plusone(5))"
   ]
  },
  {
   "cell_type": "code",
   "execution_count": 2,
   "metadata": {},
   "outputs": [
    {
     "name": "stdout",
     "output_type": "stream",
     "text": [
      "7\n"
     ]
    }
   ],
   "source": [
    "###################\n",
    "### Question 2 ####\n",
    "###################\n",
    "\n",
    "def printdecorator(func):\n",
    "    def wrapper(*args): # This wrapper function will run when we call the decorated function\n",
    "        result = func(*args)\n",
    "        print(result) # Print the result...\n",
    "        return result # ... Then return it afterwards\n",
    "    return wrapper\n",
    "\n",
    "\n",
    "@printdecorator\n",
    "def plustwo(a):\n",
    "    return a+2\n",
    "\n",
    "\n",
    "myvar = plustwo(5) # This will print the result and also assign myvar to the result"
   ]
  },
  {
   "cell_type": "code",
   "execution_count": 3,
   "metadata": {},
   "outputs": [
    {
     "data": {
      "text/plain": [
       "{'name': 'Prince Gnarls', 'species': 'great dane', 'color': 'blue'}"
      ]
     },
     "execution_count": 3,
     "metadata": {},
     "output_type": "execute_result"
    }
   ],
   "source": [
    "######################\n",
    "### Question 3(a) ####\n",
    "######################\n",
    "\n",
    "\n",
    "import json\n",
    "\n",
    "def jsondecorator(func):\n",
    "    def wrapper():\n",
    "        result = func()\n",
    "        with open('dog.txt', 'w') as outfile:\n",
    "            json.dump(result, outfile)\n",
    "        return result\n",
    "    return wrapper\n",
    "\n",
    "\n",
    "@jsondecorator\n",
    "def getdoginfo():\n",
    "    return {\"name\":\"Prince Gnarls\", \"species\":\"great dane\", \"color\":\"blue\"}\n",
    "\n",
    "\n",
    "getdoginfo()"
   ]
  },
  {
   "cell_type": "code",
   "execution_count": 4,
   "metadata": {},
   "outputs": [
    {
     "name": "stdout",
     "output_type": "stream",
     "text": [
      "{'name': 'Prince Gnarls', 'species': 'great dane', 'color': 'blue', 'favoriteplace': 'park'}\n"
     ]
    }
   ],
   "source": [
    "######################\n",
    "### Question 3(b) ####\n",
    "######################\n",
    "\n",
    "\n",
    "with open(\"dog.txt\", \"r\") as infile:\n",
    "    doginfo = json.load(infile)\n",
    "    doginfo[\"favoriteplace\"] = \"park\"\n",
    "    print(doginfo)\n",
    "\n",
    "with open(\"dog.txt\", \"w\") as outfile:\n",
    "    json.dump(doginfo, outfile)"
   ]
  },
  {
   "cell_type": "code",
   "execution_count": 5,
   "metadata": {},
   "outputs": [],
   "source": [
    "###################\n",
    "### Question 4 ####\n",
    "###################\n",
    "\n",
    "# (a) - csv (could also use JSON [but would have a larger file size] or pickle/dill)\n",
    "# (b) - pickle/dill\n",
    "# (c) - JSON (could also use csv)\n",
    "# (d) - pickle/dill\n",
    "# (e) - csv (could also use JSON [but would have a larger file size] or pickle/dill)\n",
    "# (f) - JSON (could also use pickle/dill)"
   ]
  },
  {
   "cell_type": "code",
   "execution_count": 6,
   "metadata": {},
   "outputs": [],
   "source": [
    "######################\n",
    "### Question 5(a) ####\n",
    "######################\n",
    "\n",
    "\n",
    "import numpy as np\n",
    "\n",
    "randlist = [[str(np.random.random()) for i in range(5)] for j in range(5)] \n",
    "# ^ List comp inside another list comp. Generates 5x5 of random numbers, each converted to a string\n",
    "\n",
    "with open(\"randomnumbers.txt\",\"w\") as outfile:\n",
    "    for line in randlist:\n",
    "        outfile.write(\",\".join(line))\n",
    "        outfile.write(\"\\n\")"
   ]
  },
  {
   "cell_type": "code",
   "execution_count": 7,
   "metadata": {},
   "outputs": [
    {
     "name": "stdout",
     "output_type": "stream",
     "text": [
      "0.975313289505574\n"
     ]
    }
   ],
   "source": [
    "######################\n",
    "### Question 5(b) ####\n",
    "######################\n",
    "\n",
    "randlist = [] # This will be a list of all of our random numbers (as a \"flat\" list of length 25, instead of a list of lists)\n",
    "with open(\"randomnumbers.txt\",\"r\") as infile:\n",
    "    for line in infile:\n",
    "        sublist = line.split(\",\") # Separate each entry by comma\n",
    "        sublist = [float(i) for i in sublist] # Convert each entry into a float\n",
    "        randlist.extend(sublist) # Use extend instead of append (so that we add the new values as part of the list instead of as a sublist)\n",
    "        \n",
    "print(max(randlist)) # This value will be different from yours since it's random"
   ]
  },
  {
   "cell_type": "code",
   "execution_count": null,
   "metadata": {},
   "outputs": [],
   "source": []
  }
 ],
 "metadata": {
  "kernelspec": {
   "display_name": "Python 3",
   "language": "python",
   "name": "python3"
  },
  "language_info": {
   "codemirror_mode": {
    "name": "ipython",
    "version": 3
   },
   "file_extension": ".py",
   "mimetype": "text/x-python",
   "name": "python",
   "nbconvert_exporter": "python",
   "pygments_lexer": "ipython3",
   "version": "3.7.1"
  }
 },
 "nbformat": 4,
 "nbformat_minor": 4
}
